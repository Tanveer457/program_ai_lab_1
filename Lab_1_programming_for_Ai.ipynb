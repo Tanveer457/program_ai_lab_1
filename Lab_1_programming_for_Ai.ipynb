{
  "cells": [
    {
      "cell_type": "markdown",
      "metadata": {
        "id": "view-in-github",
        "colab_type": "text"
      },
      "source": [
        "<a href=\"https://colab.research.google.com/github/Tanveer457/program_ai_lab_1/blob/Tanveer457-patch-1/Lab_1_programming_for_Ai.ipynb\" target=\"_parent\"><img src=\"https://colab.research.google.com/assets/colab-badge.svg\" alt=\"Open In Colab\"/></a>"
      ]
    },
    {
      "cell_type": "markdown",
      "source": [
        "\n",
        "\n",
        "**Task 1: Differentiate between assignment operator and equality operator**"
      ],
      "metadata": {
        "id": "fmW-9Dqj5l5i"
      }
    },
    {
      "cell_type": "code",
      "source": [
        "# Assignment operator (assigns a value to a variable):\n",
        "\n",
        "age = 25  # Assigns the value 25 to the variable age\n",
        "\n",
        "print(age)\n",
        "# Equality operator (compares values):\n",
        "is_adult = age >= 18  # Checks if age is 18 or older\n",
        "print(is_adult)  # True"
      ],
      "outputs": [
        {
          "output_type": "stream",
          "name": "stdout",
          "text": [
            "25\n",
            "True\n"
          ]
        }
      ],
      "execution_count": null,
      "metadata": {
        "colab": {
          "base_uri": "https://localhost:8080/"
        },
        "id": "X57FnLhd5l6B",
        "outputId": "2a00daef-024f-4356-b4c6-8922f0608766"
      }
    },
    {
      "cell_type": "markdown",
      "source": [
        "**Task 2: Explore all kinds/data types of variables**"
      ],
      "metadata": {
        "id": "ID2bKigk5l6O"
      }
    },
    {
      "cell_type": "code",
      "source": [
        "# Integer variable:\n",
        "num_students = 10\n",
        "# Floating-point variable:\n",
        "price = 19.99\n",
        "\n",
        "# String variable:\n",
        "name = \"Alice\"\n",
        "\n",
        "# Boolean variable:\n",
        "is_online = True\n",
        "print(type(num_students))\n",
        "print(type(price))\n",
        "print(type(name))\n",
        "print(type(is_online))"
      ],
      "outputs": [
        {
          "output_type": "stream",
          "name": "stdout",
          "text": [
            "<class 'int'>\n",
            "<class 'float'>\n",
            "<class 'str'>\n",
            "<class 'bool'>\n"
          ]
        }
      ],
      "execution_count": null,
      "metadata": {
        "colab": {
          "base_uri": "https://localhost:8080/"
        },
        "id": "beDRoG2j5l6S",
        "outputId": "550c6efe-27d5-4019-acd7-b01fa2371ed6"
      }
    },
    {
      "cell_type": "markdown",
      "source": [
        "**Task 3: Explain variable naming rules and use different names**"
      ],
      "metadata": {
        "id": "DMuX72yZ5l6W"
      }
    },
    {
      "cell_type": "code",
      "source": [
        "# Valid variable names:\n",
        "_total = 100\n",
        "totalScore = 85\n",
        "firstName = \"John\"\n",
        "print(_total)\n",
        "print(totalScore)\n",
        "print(firstName)\n",
        "\n",
        "# Invalid variable names (start with a number or contain special characters):\n",
        "2ndPlace = \"Bob\"  # Invalid: starts with a number\n",
        "user@name = \"Alice\"  # Invalid: contains the @ symbol"
      ],
      "outputs": [
        {
          "output_type": "error",
          "ename": "SyntaxError",
          "evalue": "invalid decimal literal (<ipython-input-5-65a53a865a9d>, line 10)",
          "traceback": [
            "\u001b[0;36m  File \u001b[0;32m\"<ipython-input-5-65a53a865a9d>\"\u001b[0;36m, line \u001b[0;32m10\u001b[0m\n\u001b[0;31m    2ndPlace = \"Bob\"  # Invalid: starts with a number\u001b[0m\n\u001b[0m    ^\u001b[0m\n\u001b[0;31mSyntaxError\u001b[0m\u001b[0;31m:\u001b[0m invalid decimal literal\n"
          ]
        }
      ],
      "execution_count": null,
      "metadata": {
        "colab": {
          "base_uri": "https://localhost:8080/",
          "height": 159
        },
        "id": "G7j_sm3m5l7S",
        "outputId": "b529ac64-d222-46e9-fccb-6c42e65991f3"
      }
    },
    {
      "cell_type": "markdown",
      "source": [
        "**Task 4: Declare and initialize multiple variables**"
      ],
      "metadata": {
        "id": "JYLhDX7L5l7X"
      }
    },
    {
      "cell_type": "code",
      "source": [
        "# Single variable with multiple values:\n",
        "coordinates = 10, 20\n",
        "print(coordinates)\n",
        "\n",
        "# Multiple variables with single values:\n",
        "x, y = 10"
      ],
      "outputs": [
        {
          "output_type": "stream",
          "name": "stdout",
          "text": [
            "(10, 20)\n"
          ]
        },
        {
          "output_type": "error",
          "ename": "TypeError",
          "evalue": "cannot unpack non-iterable int object",
          "traceback": [
            "\u001b[0;31m---------------------------------------------------------------------------\u001b[0m",
            "\u001b[0;31mTypeError\u001b[0m                                 Traceback (most recent call last)",
            "\u001b[0;32m<ipython-input-8-71d9309b24bd>\u001b[0m in \u001b[0;36m<cell line: 6>\u001b[0;34m()\u001b[0m\n\u001b[1;32m      4\u001b[0m \u001b[0;34m\u001b[0m\u001b[0m\n\u001b[1;32m      5\u001b[0m \u001b[0;31m# Multiple variables with single values:\u001b[0m\u001b[0;34m\u001b[0m\u001b[0;34m\u001b[0m\u001b[0m\n\u001b[0;32m----> 6\u001b[0;31m \u001b[0mx\u001b[0m\u001b[0;34m,\u001b[0m \u001b[0my\u001b[0m \u001b[0;34m=\u001b[0m \u001b[0;36m10\u001b[0m\u001b[0;34m\u001b[0m\u001b[0;34m\u001b[0m\u001b[0m\n\u001b[0m",
            "\u001b[0;31mTypeError\u001b[0m: cannot unpack non-iterable int object"
          ]
        }
      ],
      "execution_count": null,
      "metadata": {
        "colab": {
          "base_uri": "https://localhost:8080/",
          "height": 315
        },
        "id": "BAPaWZ0W5l7b",
        "outputId": "946f1865-1b0c-4a5b-be97-011785a74ca3"
      }
    },
    {
      "cell_type": "markdown",
      "source": [
        "**Task 5: Perform arithmetic operations**"
      ],
      "metadata": {
        "id": "zusdM6xd5l7g"
      }
    },
    {
      "cell_type": "code",
      "source": [
        "# Integer operations:\n",
        "a = 10\n",
        "b = 5\n",
        "sum = a + b\n",
        "difference = a - b\n",
        "product = a * b\n",
        "quotient = a // b\n",
        "print(sum)\n",
        "print(difference)\n",
        "print(product)\n",
        "print(quotient)\n",
        "\n",
        "\n",
        "# Floating-point operations:\n",
        "x = 3.14\n",
        "y = 2.5\n",
        "sum_float = x + y\n",
        "difference_float = x - y\n",
        "product_float = x * y\n",
        "quotient_float = x / y\n",
        "print(round(sum_float))\n",
        "print(round(difference_float,7))\n",
        "print(round(product_float,2))\n",
        "print(round(quotient_float,2))"
      ],
      "outputs": [
        {
          "output_type": "stream",
          "name": "stdout",
          "text": [
            "15\n",
            "5\n",
            "50\n",
            "2\n",
            "6\n",
            "0.64\n",
            "7.85\n",
            "1.26\n"
          ]
        }
      ],
      "execution_count": null,
      "metadata": {
        "colab": {
          "base_uri": "https://localhost:8080/"
        },
        "id": "R8ZStMgw5l7j",
        "outputId": "c4a1b247-4e39-4af9-bef1-2247f45b7176"
      }
    },
    {
      "cell_type": "markdown",
      "source": [
        "**Task 6: Work with string literals**"
      ],
      "metadata": {
        "id": "2L-egyFW5l7n"
      }
    },
    {
      "cell_type": "code",
      "source": [
        "# Using single quotes:\n",
        "message = 'Hello, world!'\n",
        "print(message)\n",
        "\n",
        "# Using double quotes:\n",
        "greeting = \"Welcome to Python\"\n",
        "print(greeting)\n",
        "\n",
        "# Using double quotes within single quotes:\n",
        "quote = 'He said, \"Python is awesome!\"'\n",
        "print(quote)\n",
        "# Using single quotes within double quotes:\n",
        "song = \"She sang 'Let It Be'\"\n",
        "print(song)"
      ],
      "outputs": [
        {
          "output_type": "stream",
          "name": "stdout",
          "text": [
            "Hello, world!\n",
            "Welcome to Python\n",
            "He said, \"Python is awesome!\"\n",
            "She sang 'Let It Be'\n"
          ]
        }
      ],
      "execution_count": null,
      "metadata": {
        "colab": {
          "base_uri": "https://localhost:8080/"
        },
        "id": "rv6u-dtn5l7q",
        "outputId": "0e55b37e-8130-4cc1-a4cb-e337c787e954"
      }
    },
    {
      "cell_type": "markdown",
      "source": [
        "**Task 7: Use the print() function and explore string formatting**"
      ],
      "metadata": {
        "id": "LQvTEZhk5l7s"
      }
    },
    {
      "cell_type": "code",
      "source": [
        "# Printing variables:\n",
        "print(name)\n",
        "print(age)\n",
        "\n",
        "# Printing multiple variables with comma separation:\n",
        "print(name, age)\n",
        "\n",
        "# Using f-strings for formatting:\n",
        "formatted_string = f\"Hello, {name}! You are {age} years old.\"\n",
        "print(formatted_string)"
      ],
      "outputs": [
        {
          "output_type": "stream",
          "name": "stdout",
          "text": [
            "Alice\n",
            "25\n",
            "Alice 25\n",
            "Hello, Alice! You are 25 years old.\n"
          ]
        }
      ],
      "execution_count": null,
      "metadata": {
        "colab": {
          "base_uri": "https://localhost:8080/"
        },
        "id": "KO1IHxA-5l7u",
        "outputId": "de5efa6d-d500-4836-fbd1-d8cd69b57609"
      }
    }
  ],
  "metadata": {
    "colab": {
      "provenance": [],
      "include_colab_link": true
    },
    "kernelspec": {
      "display_name": "Python 3",
      "name": "python3"
    }
  },
  "nbformat": 4,
  "nbformat_minor": 0
}