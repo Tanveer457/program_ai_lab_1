{
  "cells": [
    {
      "cell_type": "markdown",
      "metadata": {
        "id": "view-in-github",
        "colab_type": "text"
      },
      "source": [
        "<a href=\"https://colab.research.google.com/github/Tanveer457/program_ai_lab_1/blob/main/List_programming_for_ai___lab.ipynb\" target=\"_parent\"><img src=\"https://colab.research.google.com/assets/colab-badge.svg\" alt=\"Open In Colab\"/></a>"
      ]
    },
    {
      "cell_type": "markdown",
      "source": [
        "\n",
        "\n",
        "\n",
        "\n",
        "# **1. Access List Items:**"
      ],
      "metadata": {
        "id": "_0oVAl0l53SS"
      }
    },
    {
      "cell_type": "code",
      "source": [
        "fruits = [\"apple\", \"banana\", \"cherry\"]\n",
        "print(fruits[0])\n",
        "print(fruits[2])\n",
        "print(fruits[0:-1])"
      ],
      "outputs": [
        {
          "output_type": "stream",
          "name": "stdout",
          "text": [
            "apple\n",
            "cherry\n",
            "['apple', 'banana']\n"
          ]
        }
      ],
      "execution_count": 46,
      "metadata": {
        "colab": {
          "base_uri": "https://localhost:8080/"
        },
        "id": "Tp_bbbLI53Sj",
        "outputId": "63208049-3838-461a-a219-d9bca3776e90"
      }
    },
    {
      "cell_type": "markdown",
      "source": [
        "\n",
        "\n",
        "# **2. Change List Items:**"
      ],
      "metadata": {
        "id": "2c7CA1Q853Sp"
      }
    },
    {
      "cell_type": "code",
      "source": [
        "colors = [\"red\", \"green\", \"yellow\"]\n",
        "colors[1] = \"blue\"\n",
        "print(colors)"
      ],
      "outputs": [],
      "execution_count": null,
      "metadata": {
        "id": "ExQixdlO53Sq"
      }
    },
    {
      "cell_type": "markdown",
      "source": [
        "\n",
        "# **3. Add List Items:**"
      ],
      "metadata": {
        "id": "BZuPgxcm53Ss"
      }
    },
    {
      "cell_type": "code",
      "source": [
        "numbers = [1, 2, 3, 4]\n",
        "numbers.append(5)\n",
        "numbers.insert(2,10)\n",
        "print(numbers)"
      ],
      "outputs": [
        {
          "output_type": "stream",
          "name": "stdout",
          "text": [
            "[1, 2, 10, 3, 4, 5]\n"
          ]
        }
      ],
      "execution_count": 11,
      "metadata": {
        "colab": {
          "base_uri": "https://localhost:8080/"
        },
        "id": "p33kdEEH53St",
        "outputId": "8cc13b8f-43f8-4fea-aa13-e6b3651b069d"
      }
    },
    {
      "cell_type": "markdown",
      "source": [
        "\n",
        "**4. Remove List Items:**"
      ],
      "metadata": {
        "id": "RSUaB9Kz53Sv"
      }
    },
    {
      "cell_type": "code",
      "source": [
        "animals = [\"cat\", \"dog\", \"bird\", \"fish\"]\n",
        "animals.remove(\"fish\")\n",
        "animals.pop(2)\n",
        "print(animals)"
      ],
      "outputs": [
        {
          "output_type": "stream",
          "name": "stdout",
          "text": [
            "['cat', 'dog']\n"
          ]
        }
      ],
      "execution_count": 38,
      "metadata": {
        "colab": {
          "base_uri": "https://localhost:8080/"
        },
        "id": "F5coOIGM53Sy",
        "outputId": "bb7687de-5c0c-4495-eb43-57587ef2c626"
      }
    },
    {
      "cell_type": "markdown",
      "source": [
        "# **5.\tLoop Lists**"
      ],
      "metadata": {
        "id": "CNcGMZi_7EiI"
      }
    },
    {
      "cell_type": "code",
      "source": [
        "cities = [\"New York\", \"London\", \"Tokyo\"]\n",
        "for city in cities:\n",
        "    print(city)"
      ],
      "metadata": {
        "colab": {
          "base_uri": "https://localhost:8080/"
        },
        "id": "w2XVpV9m6TBz",
        "outputId": "71ebe456-c492-4b4e-cb5e-e0accfe92bba"
      },
      "execution_count": 13,
      "outputs": [
        {
          "output_type": "stream",
          "name": "stdout",
          "text": [
            "New York\n",
            "London\n",
            "Tokyo\n"
          ]
        }
      ]
    },
    {
      "cell_type": "markdown",
      "source": [
        "# **6.\tList Comprehension:**"
      ],
      "metadata": {
        "id": "WCQUDedX7Grs"
      }
    },
    {
      "cell_type": "code",
      "source": [
        "numbers = [1,4,6,6]\n",
        "squared_numbers = [x ** 2 for x in numbers]\n",
        "print(squared_numbers)"
      ],
      "metadata": {
        "colab": {
          "base_uri": "https://localhost:8080/"
        },
        "id": "IiFtCkqq6ai-",
        "outputId": "04e64616-ea1b-4db5-b872-527d4d650420"
      },
      "execution_count": 15,
      "outputs": [
        {
          "output_type": "stream",
          "name": "stdout",
          "text": [
            "[1, 16, 36, 36]\n"
          ]
        }
      ]
    },
    {
      "cell_type": "markdown",
      "source": [
        "# **7.\tSort Lists:**"
      ],
      "metadata": {
        "id": "JjjnpdJj7QRF"
      }
    },
    {
      "cell_type": "code",
      "source": [
        "names = [\"John\", \"Alice\", \"Bob\", \"Charlie\"]\n",
        "names.sort()\n",
        "print(names)"
      ],
      "metadata": {
        "colab": {
          "base_uri": "https://localhost:8080/"
        },
        "id": "M7JiHFrq6eJy",
        "outputId": "ef714d2c-9591-4ad6-d6c5-ece7615ce2f8"
      },
      "execution_count": 16,
      "outputs": [
        {
          "output_type": "stream",
          "name": "stdout",
          "text": [
            "['Alice', 'Bob', 'Charlie', 'John']\n"
          ]
        }
      ]
    },
    {
      "cell_type": "markdown",
      "source": [
        "# **8.\tCopy Lists:**"
      ],
      "metadata": {
        "id": "6D_D98Cj7VxR"
      }
    },
    {
      "cell_type": "code",
      "source": [
        "fruits = [\"apple\", \"banana\", \"orange\"]\n",
        "new_fruits = fruits.copy()\n",
        "print(new_fruits)"
      ],
      "metadata": {
        "colab": {
          "base_uri": "https://localhost:8080/"
        },
        "id": "dHbxLXAO6hdK",
        "outputId": "a87e7959-f126-42ba-b53b-367c9ca75642"
      },
      "execution_count": 23,
      "outputs": [
        {
          "output_type": "stream",
          "name": "stdout",
          "text": [
            "['apple', 'banana', 'orange']\n"
          ]
        }
      ]
    },
    {
      "cell_type": "markdown",
      "source": [
        "# **9.\tJoin Lists:**"
      ],
      "metadata": {
        "id": "9bZ1x_807dOX"
      }
    },
    {
      "cell_type": "code",
      "source": [
        "list1 = [1, 2, 3]\n",
        "list2 = [4, 5, 6]\n",
        "joined_list = list1 + list2\n",
        "print(joined_list)"
      ],
      "metadata": {
        "colab": {
          "base_uri": "https://localhost:8080/"
        },
        "id": "cju0uxNi6it-",
        "outputId": "a4ba7296-e77b-4890-9745-718c15285bf1"
      },
      "execution_count": 24,
      "outputs": [
        {
          "output_type": "stream",
          "name": "stdout",
          "text": [
            "[1, 2, 3, 4, 5, 6]\n"
          ]
        }
      ]
    },
    {
      "cell_type": "markdown",
      "source": [
        "# **10.\tList Methods:**\n",
        "•\tCreate a list of fruits.\n",
        "•\tUse the append() method to add a new fruit to the list.\n",
        "•\tUse the pop() method to remove the last fruit from the list.\n"
      ],
      "metadata": {
        "id": "1Q6gOO_h7joZ"
      }
    },
    {
      "cell_type": "code",
      "source": [
        "fruits = [\"apple\", \"banana\", \"orange\"]\n",
        "fruits.append(\"grape\")\n",
        "print(fruits)\n",
        "last_fruit = fruits.pop()\n",
        "print(\"Last fruit removed:\", last_fruit)"
      ],
      "metadata": {
        "colab": {
          "base_uri": "https://localhost:8080/"
        },
        "id": "dCh8d8aS6n5u",
        "outputId": "3671ec26-a412-43d3-e51e-a21951f3ad1b"
      },
      "execution_count": 25,
      "outputs": [
        {
          "output_type": "stream",
          "name": "stdout",
          "text": [
            "['apple', 'banana', 'orange', 'grape']\n",
            "Last fruit removed: grape\n"
          ]
        }
      ]
    },
    {
      "cell_type": "markdown",
      "source": [
        "# **11.\tCombining Lists and List Comprehension:**"
      ],
      "metadata": {
        "id": "ErjJhAxZ7u2b"
      }
    },
    {
      "cell_type": "code",
      "source": [
        "list1 = [1, 2, 3, 4, 5]\n",
        "list2 = [6, 7, 8, 9, 10]\n",
        "list3 = list1+list2\n",
        "print(list3)"
      ],
      "metadata": {
        "colab": {
          "base_uri": "https://localhost:8080/"
        },
        "id": "_IXzQJfX6p1U",
        "outputId": "49eae299-a17d-4c5a-872e-73529949c6cc"
      },
      "execution_count": 26,
      "outputs": [
        {
          "output_type": "stream",
          "name": "stdout",
          "text": [
            "[1, 2, 3, 4, 5, 6, 7, 8, 9, 10]\n"
          ]
        }
      ]
    },
    {
      "cell_type": "markdown",
      "source": [
        "\n",
        "## **12.Prints even numbers from 1 to 10 in descending order:**"
      ],
      "metadata": {
        "id": "NI6DjNicGWV0"
      }
    },
    {
      "cell_type": "code",
      "source": [
        "numbers = [1, 2, 3, 4, 5, 6, 7, 8, 9, 10]\n",
        "\n",
        "even_numbers = [num for num in numbers if num % 2 == 0]\n",
        "\n",
        "\n",
        "sorted_even_numbers = sorted(even_numbers, reverse=True)\n",
        "\n",
        "print(sorted_even_numbers)"
      ],
      "metadata": {
        "colab": {
          "base_uri": "https://localhost:8080/"
        },
        "id": "F7pIN2nc-NMR",
        "outputId": "78cb36b4-22f7-4ecb-fadd-db70ea77bed9"
      },
      "execution_count": 39,
      "outputs": [
        {
          "output_type": "stream",
          "name": "stdout",
          "text": [
            "[10, 8, 6, 4, 2]\n"
          ]
        }
      ]
    },
    {
      "cell_type": "markdown",
      "source": [
        "## **13. Prints even numbers from 1 to 10 in reverse order:**"
      ],
      "metadata": {
        "id": "_oWGbVtvHzBk"
      }
    },
    {
      "cell_type": "code",
      "source": [
        "numbers = [1,2,3,4,5,6,7,8,9,10]\n",
        "print(numbers) # Create a list from 1 to 10\n",
        "\n",
        "# Even numbers in reverse order using list slicing\n",
        "even_numbers_reversed = numbers[-1:: -2]\n",
        "\n",
        "# Print the even numbers in reverse order\n",
        "print(even_numbers_reversed)"
      ],
      "metadata": {
        "colab": {
          "base_uri": "https://localhost:8080/"
        },
        "id": "r_liIHMSC1KQ",
        "outputId": "de48c89e-de86-4be4-9ca1-f1f5550420d0"
      },
      "execution_count": 42,
      "outputs": [
        {
          "output_type": "stream",
          "name": "stdout",
          "text": [
            "[1, 2, 3, 4, 5, 6, 7, 8, 9, 10]\n",
            "[10, 8, 6, 4, 2]\n"
          ]
        }
      ]
    },
    {
      "cell_type": "markdown",
      "source": [
        "\n",
        "## **14.Combines even and odd lists in alternating order:**"
      ],
      "metadata": {
        "id": "BZ6jAh5CH_ZL"
      }
    },
    {
      "cell_type": "code",
      "source": [
        "even_numbers = [2, 4, 6]\n",
        "odd_numbers = [1, 3, 5, 7]\n",
        "\n",
        "# Combine lists with alternating elements using extend and zip\n",
        "combined_list = []\n",
        "combined_list.extend(x for x in even_numbers if x%2==0)  # Add even numbers\n",
        "combined_list.extend(x for x in odd_numbers if x%2!=0)  # Add odd numbers\n",
        "\n",
        "# Print the combined list\n",
        "print(combined_list)\n"
      ],
      "metadata": {
        "colab": {
          "base_uri": "https://localhost:8080/"
        },
        "id": "NGWfFyFYERnY",
        "outputId": "9af3621c-94ec-4343-bc77-003f9b3bc297"
      },
      "execution_count": 45,
      "outputs": [
        {
          "output_type": "stream",
          "name": "stdout",
          "text": [
            "[2, 4, 6, 1, 3, 5, 7]\n"
          ]
        }
      ]
    }
  ],
  "metadata": {
    "colab": {
      "provenance": [],
      "include_colab_link": true
    },
    "kernelspec": {
      "display_name": "Python 3",
      "name": "python3"
    }
  },
  "nbformat": 4,
  "nbformat_minor": 0
}