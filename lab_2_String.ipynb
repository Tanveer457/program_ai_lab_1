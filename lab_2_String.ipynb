{
  "cells": [
    {
      "cell_type": "markdown",
      "metadata": {
        "id": "view-in-github",
        "colab_type": "text"
      },
      "source": [
        "<a href=\"https://colab.research.google.com/github/Tanveer457/program_ai_lab_1/blob/main/lab_2_String.ipynb\" target=\"_parent\"><img src=\"https://colab.research.google.com/assets/colab-badge.svg\" alt=\"Open In Colab\"/></a>"
      ]
    },
    {
      "cell_type": "markdown",
      "source": [
        "# **LAB 2 & 3 STRINGS**"
      ],
      "metadata": {
        "id": "k0MGlXnzJy4q"
      }
    },
    {
      "cell_type": "markdown",
      "source": [
        "\n",
        "\n",
        "**Task 1: Print at least 5 types of data types**"
      ],
      "metadata": {
        "id": "uPFAvwQ6C7nW"
      }
    },
    {
      "cell_type": "code",
      "source": [
        "# Integers\n",
        "age = 25\n",
        "print(\"Integer:\", age,type(age))\n",
        "me = 34\n",
        "print(\"Integer:\", me,type(me))\n",
        "you = 56\n",
        "print(\"Integer:\", you,type(you))\n",
        "ss = 45\n",
        "print(\"Integer:\", ss,type(ss))\n",
        "le =223\n",
        "print(\"Integer:\", le,type(le))\n",
        "\n",
        "\n",
        "# Floating-point numbers\n",
        "pi = 3.14159\n",
        "print(\"Float:\", pi,type(pi))\n",
        "tu =43.5\n",
        "print(\"Float:\", tu,type(tu))\n",
        "hu =34.3\n",
        "print(\"Float:\", pi,type(hu))\n",
        "we =34.5\n",
        "print(\"Float:\", pi,type(we))\n",
        "se=56.6\n",
        "print(\"Float:\", pi,type(se))\n",
        "\n",
        "# Complex point numbers\n",
        "h = 4+6j\n",
        "print(\"Complex:\", h,type(h))\n",
        "i = 3+4j\n",
        "print(\"Complex:\", i,type(i))\n",
        "f = 3+0j\n",
        "print(\"Complex:\", f,type(f))\n",
        "g = 0+0j\n",
        "print(\"Complex:\", g,type(g))\n",
        "t = 2+3j\n",
        "print(\"Complex:\", t,type(t))\n"
      ],
      "outputs": [
        {
          "output_type": "stream",
          "name": "stdout",
          "text": [
            "Integer: 25 <class 'int'>\n",
            "Integer: 34 <class 'int'>\n",
            "Integer: 56 <class 'int'>\n",
            "Integer: 45 <class 'int'>\n",
            "Integer: 223 <class 'int'>\n",
            "Float: 3.14159 <class 'float'>\n",
            "Float: 43.5 <class 'float'>\n",
            "Float: 3.14159 <class 'float'>\n",
            "Float: 3.14159 <class 'float'>\n",
            "Float: 3.14159 <class 'float'>\n",
            "Complex: (4+6j) <class 'complex'>\n",
            "Complex: (3+4j) <class 'complex'>\n",
            "Complex: (3+0j) <class 'complex'>\n",
            "Complex: 0j <class 'complex'>\n",
            "Complex: (2+3j) <class 'complex'>\n"
          ]
        }
      ],
      "execution_count": 1,
      "metadata": {
        "colab": {
          "base_uri": "https://localhost:8080/"
        },
        "id": "VyvqK2tVC7nb",
        "outputId": "aeb1d0eb-fd72-458f-a159-e66b8bd11876"
      }
    },
    {
      "cell_type": "markdown",
      "source": [
        "**Task 2: Write example of type conversion for each (minimum 3)**"
      ],
      "metadata": {
        "id": "BPGmZw3uC7nd"
      }
    },
    {
      "cell_type": "code",
      "source": [
        "# Integer to float & Complex\n",
        "age_in_years = 25\n",
        "age_in_days = float(23)\n",
        "print(\"Age in days (float):\", age_in_days)\n",
        "age_in_me = 50\n",
        "age_in_days = float(age_in_me)\n",
        "print(\"Age in days (float):\", age_in_days)\n",
        "age_in_months = 34\n",
        "age_in_days = complex(age_in_months)\n",
        "print(\"Age in days (complex):\", age_in_days)\n",
        "\n",
        "\n",
        "# Float to integer (round down)& Complex\n",
        "pi_int = int(pi)\n",
        "print(\"Pi as integer:\", pi_int)\n",
        "tu =int(43.5)\n",
        "print(\"tu as integer:\", tu,type(tu))\n",
        "hu =complex(34.3)\n",
        "print(\"tu as complex:\", hu,type(hu))\n",
        "\n",
        "#Complex to integer and float\n",
        "# Convert to integer and float\n",
        "h_real = int(h.real)\n",
        "h_imag = float(h.imag)\n",
        "i_real = int(i.real)\n",
        "i_imag = float(i.imag)\n",
        "f_real = int(f.real)\n",
        "f_imag = float(f.imag)\n",
        "\n",
        "# Print the results\n",
        "print(\"Real part of h:\", h_real, type(h_real))\n",
        "print(\"Imaginary part of h:\", h_imag, type(h_imag))\n",
        "print(\"Real part of i:\", i_real, type(i_real))\n",
        "print(\"Imaginary part of i:\", i_imag, type(i_imag))\n",
        "print(\"Real part of f:\", f_real, type(f_real))\n",
        "print(\"Imaginary part of f:\", f_imag, type(f_imag))\n"
      ],
      "outputs": [
        {
          "output_type": "stream",
          "name": "stdout",
          "text": [
            "Age in days (float): 23.0\n",
            "Age in days (float): 50.0\n",
            "Age in days (complex): (34+0j)\n",
            "Pi as integer: 3\n",
            "tu as integer: 43 <class 'int'>\n",
            "tu as complex: (34.3+0j) <class 'complex'>\n",
            "Real part of h: 4 <class 'int'>\n",
            "Imaginary part of h: 6.0 <class 'float'>\n",
            "Real part of i: 3 <class 'int'>\n",
            "Imaginary part of i: 4.0 <class 'float'>\n",
            "Real part of f: 3 <class 'int'>\n",
            "Imaginary part of f: 0.0 <class 'float'>\n"
          ]
        }
      ],
      "execution_count": 16,
      "metadata": {
        "colab": {
          "base_uri": "https://localhost:8080/"
        },
        "id": "BUZz1cotC7ne",
        "outputId": "d06fcd99-5a05-4305-a80b-2aca0169154f"
      }
    },
    {
      "cell_type": "markdown",
      "source": [
        "**Task 3: Assign multiple strings to a single variable with your name, registration number, program, semester etc**"
      ],
      "metadata": {
        "id": "RBbf4BRHC7ne"
      }
    },
    {
      "cell_type": "code",
      "source": [
        "info = \"\"\"\n",
        "Name: Alice Smith\n",
        "Registration Number: ABC123\n",
        "Program: Computer Science\n",
        "Semester: Spring 2024\n",
        "\"\"\"\n",
        "print(info)"
      ],
      "outputs": [
        {
          "output_type": "stream",
          "name": "stdout",
          "text": [
            "\n",
            "Name: Alice Smith\n",
            "Registration Number: ABC123\n",
            "Program: Computer Science\n",
            "Semester: Spring 2024\n",
            "\n"
          ]
        }
      ],
      "execution_count": 3,
      "metadata": {
        "colab": {
          "base_uri": "https://localhost:8080/"
        },
        "id": "BWNL4AX5C7nf",
        "outputId": "41b517c2-2912-4300-8a56-ec527d8885ff"
      }
    },
    {
      "cell_type": "markdown",
      "source": [
        "**Task 4: Write Your country name and access the last 3 characters**"
      ],
      "metadata": {
        "id": "vuqFZ1JrC7nf"
      }
    },
    {
      "cell_type": "code",
      "source": [
        "country = \"Pakistan\"\n",
        "last_three_chars = country[-3:]\n",
        "print(\"Last three characters of country name:\", last_three_chars)"
      ],
      "outputs": [
        {
          "output_type": "stream",
          "name": "stdout",
          "text": [
            "Last three characters of country name: tan\n"
          ]
        }
      ],
      "execution_count": 4,
      "metadata": {
        "colab": {
          "base_uri": "https://localhost:8080/"
        },
        "id": "6CUtIoqHC7ng",
        "outputId": "2ab60cd6-79f4-4231-fa66-c91a94ef5cea"
      }
    },
    {
      "cell_type": "markdown",
      "source": [
        "**Task 5: Write code and observe using len() function it count space or not**"
      ],
      "metadata": {
        "id": "cyoOe1cQC7ng"
      }
    },
    {
      "cell_type": "code",
      "source": [
        "sentence = \"This is a sentence with spaces\"\n",
        "print(\"Length of sentence (including spaces):\", len(sentence))\n",
        "sentence = \"This is a sentence with spaces\"\n",
        "print(\"   Length of sentence (including spaces):    \", len(sentence))"
      ],
      "outputs": [
        {
          "output_type": "stream",
          "name": "stdout",
          "text": [
            "Length of sentence (including spaces): 30\n",
            "   Length of sentence (including spaces):     30\n"
          ]
        }
      ],
      "execution_count": 5,
      "metadata": {
        "colab": {
          "base_uri": "https://localhost:8080/"
        },
        "id": "uHEYeleWC7ng",
        "outputId": "3b21b8c8-ec75-4d90-dfa4-0e42d41418df"
      }
    },
    {
      "cell_type": "markdown",
      "source": [
        "**Task 6: Write code to access the 2nd and 3rd character of your name using negative indexes**"
      ],
      "metadata": {
        "id": "5PuPkYb5C7nh"
      }
    },
    {
      "cell_type": "code",
      "source": [
        "name = \"Alice\"\n",
        "second_char = name[-2]\n",
        "third_char = name[-3]\n",
        "print(\"Second character:\", second_char)\n",
        "print(\"Third character:\", third_char)"
      ],
      "outputs": [
        {
          "output_type": "stream",
          "name": "stdout",
          "text": [
            "Second character: c\n",
            "Third character: i\n"
          ]
        }
      ],
      "execution_count": 6,
      "metadata": {
        "colab": {
          "base_uri": "https://localhost:8080/"
        },
        "id": "zLMLUSPGC7nh",
        "outputId": "ee726cd9-0d1f-4839-aa26-73d8eff0860e"
      }
    },
    {
      "cell_type": "markdown",
      "source": [
        "**Task 7: Write python code in which you pass index number to format() function and arguments must be 4 and same code without indexes**"
      ],
      "metadata": {
        "id": "s3Rlc1kTC7ni"
      }
    },
    {
      "cell_type": "code",
      "source": [
        "name = \"Bob\"\n",
        "age = 30\n",
        "\n",
        "# With index numbers\n",
        "formatted_string = \"My name is {0} and I am {1} years old.\".format(name, age)\n",
        "print(formatted_string)\n",
        "\n",
        "# Without index numbers\n",
        "formatted_string = f\"My name is {name} and I am {age} years old.\"\n",
        "print(formatted_string)"
      ],
      "outputs": [
        {
          "output_type": "stream",
          "name": "stdout",
          "text": [
            "My name is Bob and I am 30 years old.\n",
            "My name is Bob and I am 30 years old.\n"
          ]
        }
      ],
      "execution_count": 7,
      "metadata": {
        "colab": {
          "base_uri": "https://localhost:8080/"
        },
        "id": "hAC6MiSjC7nl",
        "outputId": "3fef120f-49f3-41a6-b3fa-af0be87593ef"
      }
    },
    {
      "cell_type": "markdown",
      "source": [
        "**Task 8: Take input from user and than display it like \"John age is: age\"**"
      ],
      "metadata": {
        "id": "sA9isZIVC7nm"
      }
    },
    {
      "cell_type": "code",
      "source": [
        "name = input(\"Enter your name: \")\n",
        "age = int(input(\"Enter your age: \"))\n",
        "\n",
        "print(f\"{name}'s age is: {age}\")"
      ],
      "outputs": [
        {
          "output_type": "stream",
          "name": "stdout",
          "text": [
            "Enter your name: tani\n",
            "Enter your age: 3\n",
            "tani's age is: 3\n"
          ]
        }
      ],
      "execution_count": 9,
      "metadata": {
        "id": "T9PNvN0KC7nm",
        "colab": {
          "base_uri": "https://localhost:8080/"
        },
        "outputId": "85e81491-6564-4168-926f-bc98599ff91a"
      }
    }
  ],
  "metadata": {
    "colab": {
      "provenance": [],
      "gpuType": "T4",
      "include_colab_link": true
    },
    "kernelspec": {
      "display_name": "Python 3",
      "name": "python3"
    },
    "accelerator": "GPU"
  },
  "nbformat": 4,
  "nbformat_minor": 0
}