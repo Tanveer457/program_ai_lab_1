{
  "nbformat": 4,
  "nbformat_minor": 0,
  "metadata": {
    "colab": {
      "provenance": [],
      "authorship_tag": "ABX9TyOMmj0K1mz3PamkL4n+HI+L",
      "include_colab_link": true
    },
    "kernelspec": {
      "name": "python3",
      "display_name": "Python 3"
    },
    "language_info": {
      "name": "python"
    }
  },
  "cells": [
    {
      "cell_type": "markdown",
      "metadata": {
        "id": "view-in-github",
        "colab_type": "text"
      },
      "source": [
        "<a href=\"https://colab.research.google.com/github/Tanveer457/program_ai_lab_1/blob/main/Lab5.ipynb\" target=\"_parent\"><img src=\"https://colab.research.google.com/assets/colab-badge.svg\" alt=\"Open In Colab\"/></a>"
      ]
    },
    {
      "cell_type": "markdown",
      "source": [
        "## Breadth-First Search\n",
        "\n"
      ],
      "metadata": {
        "id": "6ftOeiG0IYMO"
      }
    },
    {
      "cell_type": "code",
      "execution_count": null,
      "metadata": {
        "id": "I30WfaeBIPKA",
        "colab": {
          "base_uri": "https://localhost:8080/"
        },
        "outputId": "4e21dec0-1531-4935-95e2-ea7561f94640"
      },
      "outputs": [
        {
          "output_type": "stream",
          "name": "stdout",
          "text": [
            "Following is the Breadth-First Search\n",
            "5 3 7 2 4 8 "
          ]
        }
      ],
      "source": [
        "graph = {\n",
        "  '5' : ['3','7'],\n",
        "  '3' : ['2', '4'],\n",
        "  '7' : ['8'],\n",
        "  '2' : [],\n",
        "  '4' : ['8'],\n",
        "  '8' : []\n",
        "}\n",
        "\n",
        "visited = []\n",
        "queue = []\n",
        "\n",
        "def bfs(visited, graph, node):\n",
        "  visited.append(node)\n",
        "  queue.append(node)\n",
        "\n",
        "  while queue:\n",
        "    m = queue.pop(0)\n",
        "    print (m, end = \" \")\n",
        "\n",
        "    for neighbour in graph[m]:\n",
        "      if neighbour not in visited:\n",
        "        visited.append(neighbour)\n",
        "        queue.append(neighbour)\n",
        "\n",
        "print(\"Following is the Breadth-First Search\")\n",
        "bfs(visited, graph, '5')"
      ]
    },
    {
      "cell_type": "markdown",
      "source": [
        "# **linear searach**"
      ],
      "metadata": {
        "id": "kTO0IdQNT3JR"
      }
    },
    {
      "cell_type": "code",
      "source": [
        "def lenear_search(arr,target):\n",
        "  count=0\n",
        "  for i,num in enumerate(arr):\n",
        "    if target==num:\n",
        "      count+=1\n",
        "  return  count\n",
        "  return -1\n",
        "\n",
        "tani = [2,4,35,35,645,4]\n",
        "t=35\n",
        "t2=lenear_search(tani,t)\n",
        "if t2!=-1:\n",
        "  print(f\"target value {t} found at loc {lenear_search(tani,t)}  \")\n",
        "else:\n",
        "  print(f\"target value {t} not found\")\n",
        "\n"
      ],
      "metadata": {
        "id": "IKfOgGIfIXIR",
        "colab": {
          "base_uri": "https://localhost:8080/"
        },
        "outputId": "e00dc58f-26a3-493c-c9bc-1c12ed385cba"
      },
      "execution_count": null,
      "outputs": [
        {
          "output_type": "stream",
          "name": "stdout",
          "text": [
            "target value 35 found at index 2  \n"
          ]
        }
      ]
    },
    {
      "cell_type": "code",
      "source": [
        "def lenear_search(arr,target):\n",
        "\n",
        " for i,num in enumerate(arr):\n",
        "     if num==target:\n",
        "      return i\n",
        " return -1\n",
        "\n",
        "tani = [2,4,35,35,645,4]\n",
        "t=645\n",
        "t2=lenear_search(tani,t)\n",
        "if t2!=-1:\n",
        "  print(f\"target value {t} found at index {t2}\")\n",
        "else:\n",
        "  print(f\"target value {t} not found\")"
      ],
      "metadata": {
        "colab": {
          "base_uri": "https://localhost:8080/"
        },
        "id": "_uCQ_XygZZw1",
        "outputId": "d5ce2bdc-c8e9-4c42-fed5-4c2b31b84940"
      },
      "execution_count": null,
      "outputs": [
        {
          "output_type": "stream",
          "name": "stdout",
          "text": [
            "target value 645 found at index 4\n"
          ]
        }
      ]
    },
    {
      "cell_type": "markdown",
      "source": [
        "# **Task 2**"
      ],
      "metadata": {
        "id": "5458t9BgizzG"
      }
    },
    {
      "cell_type": "code",
      "source": [
        "\n",
        "def linear_search(arr, target):\n",
        "    count = 0\n",
        "    for num in arr:\n",
        "        if target == num:\n",
        "            count += 1\n",
        "    return count\n",
        "\n",
        "def count_occurrences(arr, num):\n",
        "    return arr.count(num)\n",
        "\n",
        "tani = [2, 4, 35, 35, 645, 4]\n",
        "t = 35\n",
        "\n",
        "t2 = linear_search(tani, t)\n",
        "if t2 != 0:\n",
        "    print(f\"Target value {t} found {t2} times using linear search.\")\n",
        "    print(f\"Target value {t} found {count_occurrences(tani, t)} times using count_occurrences.\")\n",
        "else:\n",
        "    print(f\"Target value {t} not found\")\n"
      ],
      "metadata": {
        "colab": {
          "base_uri": "https://localhost:8080/"
        },
        "id": "kMCKS3z3eno7",
        "outputId": "726d1636-5ada-4bf8-ef25-8f7ff2827633"
      },
      "execution_count": null,
      "outputs": [
        {
          "output_type": "stream",
          "name": "stdout",
          "text": [
            "Target value 35 found 2 times using linear search.\n",
            "Target value 35 found 2 times using count_occurrences.\n"
          ]
        }
      ]
    }
  ]
}