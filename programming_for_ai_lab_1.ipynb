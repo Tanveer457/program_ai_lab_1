{
  "nbformat": 4,
  "nbformat_minor": 0,
  "metadata": {
    "colab": {
      "provenance": [],
      "authorship_tag": "ABX9TyNQCCOnTT2/htNRvouPSOHg",
      "include_colab_link": true
    },
    "kernelspec": {
      "name": "python3",
      "display_name": "Python 3"
    },
    "language_info": {
      "name": "python"
    }
  },
  "cells": [
    {
      "cell_type": "markdown",
      "metadata": {
        "id": "view-in-github",
        "colab_type": "text"
      },
      "source": [
        "<a href=\"https://colab.research.google.com/github/Tanveer457/program_ai_lab_1/blob/main/programming_for_ai_lab_1.ipynb\" target=\"_parent\"><img src=\"https://colab.research.google.com/assets/colab-badge.svg\" alt=\"Open In Colab\"/></a>"
      ]
    },
    {
      "cell_type": "markdown",
      "source": [
        "# **Variable in python**"
      ],
      "metadata": {
        "id": "NDLH5XPC_B_Y"
      }
    },
    {
      "cell_type": "code",
      "source": [
        "# Define three variables of different types\n",
        "a = 10  # integer\n",
        "b = \"Hello World\"  # string\n",
        "c = 10.245  # float\n",
        "\n",
        "# Convert integer to string\n",
        "a_str = str(a)\n",
        "\n",
        "# Convert float to integer\n",
        "c_int = int(c)\n",
        "print(\"Converted values:\")\n",
        "print(f\"a_str: {a_str}\")\n",
        "print(f\"c_int: {c_int}\")"
      ],
      "metadata": {
        "colab": {
          "base_uri": "https://localhost:8080/"
        },
        "id": "BQz8aQbQ-_Hj",
        "outputId": "2d0f839c-12bf-424d-dead-bda482513179"
      },
      "execution_count": 34,
      "outputs": [
        {
          "output_type": "stream",
          "name": "stdout",
          "text": [
            "Converted values:\n",
            "a_str: 10\n",
            "c_int: 10\n"
          ]
        }
      ]
    },
    {
      "cell_type": "code",
      "source": [
        "# @abc=45;\n",
        "# alpha b =454\n",
        "# 3cfa=43\n",
        "c33=43\n",
        "age=34\n",
        "Age=34\n",
        "AGE=32\n",
        "print(age,Age,AGE)\n",
        "# print(@abc,aplha b ,3cfa,c33)\n",
        "print(type(age))"
      ],
      "metadata": {
        "colab": {
          "base_uri": "https://localhost:8080/"
        },
        "id": "PPsShc4u_rlf",
        "outputId": "d32119a9-3893-433b-8d26-75c52bf2e233"
      },
      "execution_count": 17,
      "outputs": [
        {
          "output_type": "stream",
          "name": "stdout",
          "text": [
            "34 34 32\n",
            "<class 'int'>\n"
          ]
        }
      ]
    },
    {
      "cell_type": "code",
      "source": [
        "# a=45,54,454,4456,22,3256743\n",
        "print(a)\n",
        "a=34\n",
        "a=323\n",
        "print(a)\n",
        "a,b,c = 3\n",
        "del a"
      ],
      "metadata": {
        "colab": {
          "base_uri": "https://localhost:8080/",
          "height": 237
        },
        "id": "tZ2-UBMoFMZC",
        "outputId": "b4cd86c9-7dc5-4784-b068-9a45bf7f79c8"
      },
      "execution_count": 21,
      "outputs": [
        {
          "output_type": "stream",
          "name": "stdout",
          "text": [
            "323\n",
            "323\n"
          ]
        },
        {
          "output_type": "error",
          "ename": "TypeError",
          "evalue": "cannot unpack non-iterable int object",
          "traceback": [
            "\u001b[0;31m---------------------------------------------------------------------------\u001b[0m",
            "\u001b[0;31mTypeError\u001b[0m                                 Traceback (most recent call last)",
            "\u001b[0;32m<ipython-input-21-37426d97c615>\u001b[0m in \u001b[0;36m<cell line: 6>\u001b[0;34m()\u001b[0m\n\u001b[1;32m      4\u001b[0m \u001b[0ma\u001b[0m\u001b[0;34m=\u001b[0m\u001b[0;36m323\u001b[0m\u001b[0;34m\u001b[0m\u001b[0;34m\u001b[0m\u001b[0m\n\u001b[1;32m      5\u001b[0m \u001b[0mprint\u001b[0m\u001b[0;34m(\u001b[0m\u001b[0ma\u001b[0m\u001b[0;34m)\u001b[0m\u001b[0;34m\u001b[0m\u001b[0;34m\u001b[0m\u001b[0m\n\u001b[0;32m----> 6\u001b[0;31m \u001b[0ma\u001b[0m\u001b[0;34m,\u001b[0m\u001b[0mb\u001b[0m\u001b[0;34m,\u001b[0m\u001b[0mc\u001b[0m \u001b[0;34m=\u001b[0m \u001b[0;36m3\u001b[0m\u001b[0;34m\u001b[0m\u001b[0;34m\u001b[0m\u001b[0m\n\u001b[0m\u001b[1;32m      7\u001b[0m \u001b[0;32mdel\u001b[0m \u001b[0ma\u001b[0m\u001b[0;34m\u001b[0m\u001b[0;34m\u001b[0m\u001b[0m\n",
            "\u001b[0;31mTypeError\u001b[0m: cannot unpack non-iterable int object"
          ]
        }
      ]
    },
    {
      "cell_type": "markdown",
      "source": [
        "## **List**"
      ],
      "metadata": {
        "id": "ekYHuGO8Kp19"
      }
    },
    {
      "cell_type": "code",
      "source": [
        "s=[3,53,453,534]\n",
        "print(s[-1])"
      ],
      "metadata": {
        "colab": {
          "base_uri": "https://localhost:8080/"
        },
        "id": "UYvYwgW1Ko1D",
        "outputId": "a8bc1a13-d560-4cc1-8ec2-40aee3fc480a"
      },
      "execution_count": 23,
      "outputs": [
        {
          "output_type": "stream",
          "name": "stdout",
          "text": [
            "534\n"
          ]
        }
      ]
    },
    {
      "cell_type": "code",
      "source": [
        "s=4\n",
        "b=\"is\"\n",
        "c=\"ai student\"\n",
        "print(s,b,c)\n",
        "# print(s+b+c)\n",
        "# print(f\"{s}  {b}  {c}\")"
      ],
      "metadata": {
        "colab": {
          "base_uri": "https://localhost:8080/"
        },
        "id": "A-JlyHwRLjuW",
        "outputId": "fac98dcb-b8e7-4996-af5a-612e6370a8ad"
      },
      "execution_count": 36,
      "outputs": [
        {
          "output_type": "stream",
          "name": "stdout",
          "text": [
            "4 is ai student\n"
          ]
        }
      ]
    },
    {
      "cell_type": "markdown",
      "source": [
        "in both printing method i observed one difference that is follwing\n",
        "\n",
        "in + method there is no space in output\n",
        "in , method there is space in output"
      ],
      "metadata": {
        "id": "f2ZMrVFSMRW7"
      }
    }
  ]
}